{
 "cells": [
  {
   "cell_type": "markdown",
   "id": "241be017",
   "metadata": {},
   "source": [
    "# options"
   ]
  },
  {
   "cell_type": "code",
   "execution_count": 1,
   "id": "d84d3b57",
   "metadata": {
    "tags": []
   },
   "outputs": [],
   "source": [
    "from IPython.core.interactiveshell import InteractiveShell\n",
    "InteractiveShell.ast_node_interactivity = \"all\""
   ]
  },
  {
   "cell_type": "markdown",
   "id": "5c7e8cfa",
   "metadata": {},
   "source": [
    "# Imports"
   ]
  },
  {
   "cell_type": "code",
   "execution_count": 2,
   "id": "803f01ec",
   "metadata": {
    "tags": []
   },
   "outputs": [],
   "source": [
    "import pandas as pd\n",
    "import os"
   ]
  },
  {
   "cell_type": "markdown",
   "id": "b9e97334",
   "metadata": {},
   "source": [
    "# Exercise 1 - Read the data\n",
    "\n",
    "the file is under the folder data and is named `supermarket_sales.csv`"
   ]
  },
  {
   "cell_type": "code",
   "execution_count": 5,
   "id": "f8f3862a",
   "metadata": {
    "tags": []
   },
   "outputs": [],
   "source": [
    "df = pd.read_csv('./data/supermarket_sales.csv')"
   ]
  },
  {
   "cell_type": "markdown",
   "id": "fe0c40ec",
   "metadata": {},
   "source": [
    "# Documentation\n",
    "\n",
    "[source of dataset](https://www.kaggle.com/datasets/aungpyaeap/supermarket-sales)\n",
    "\n",
    "**Context**\n",
    "The growth of supermarkets in most populated cities are increasing and market competitions are also high. The dataset is one of the historical sales of supermarket company which has recorded in 3 different branches for 3 months data. Predictive data analytics methods are easy to apply with this dataset.\n",
    "\n",
    "**Attribute information**\n",
    "- **Invoice id**: Computer generated sales slip invoice identification number\n",
    "- **Branch**: Branch of supercenter (3 branches are available identified by A, B and C).\n",
    "- **City**: Location of supercenters\n",
    "- **Customer type**: Type of customers, recorded by Members for customers using member card and Normal for without member card.\n",
    "- **Gender**: Gender type of customer\n",
    "- **Product line**: General item categorization groups - Electronic accessories, Fashion accessories, Food and beverages, Health and beauty, Home and lifestyle, Sports and travel\n",
    "- **Unit price**: Price of each product in $\n",
    "- **Quantity**: Number of products purchased by customer\n",
    "- **Tax**: 5\\% tax fee for customer buying\n",
    "- **Total**: Total price including tax\n",
    "- **Date**: Date of purchase (Record available from January 2019 to March 2019)\n",
    "- **Time**: Purchase time (10am to 9pm)\n",
    "- **Payment**: Payment used by customer for purchase (3 methods are available – Cash, Credit card and Ewallet)\n",
    "- **COGS**: Cost of goods sold\n",
    "- **Gross margin percentage**: Gross margin percentage\n",
    "- **Gross income**: Gross income\n",
    "- **Rating**: Customer stratification rating on their overall shopping experience (On a scale of 1 to 10)"
   ]
  },
  {
   "cell_type": "markdown",
   "id": "3f998d35",
   "metadata": {},
   "source": [
    "# Exercise 1.1\n",
    "\n",
    "How many cities are there in this dataset?"
   ]
  },
  {
   "cell_type": "code",
   "execution_count": 10,
   "id": "b84ac60b",
   "metadata": {
    "tags": []
   },
   "outputs": [
    {
     "data": {
      "text/plain": [
       "3"
      ]
     },
     "execution_count": 10,
     "metadata": {},
     "output_type": "execute_result"
    }
   ],
   "source": [
    "n_cities = df['City'].nunique()\n",
    "n_cities"
   ]
  },
  {
   "cell_type": "markdown",
   "id": "55971bae",
   "metadata": {},
   "source": [
    "# Exercise 1.2\n",
    "\n",
    "What is the average rating of items for this supermarket company?"
   ]
  },
  {
   "cell_type": "code",
   "execution_count": 13,
   "id": "936eeb7e",
   "metadata": {
    "tags": []
   },
   "outputs": [
    {
     "data": {
      "text/plain": [
       "6.9727"
      ]
     },
     "execution_count": 13,
     "metadata": {},
     "output_type": "execute_result"
    }
   ],
   "source": [
    "rating = df['Rating'].mean()\n",
    "rating"
   ]
  },
  {
   "cell_type": "markdown",
   "id": "5ad4319d",
   "metadata": {},
   "source": [
    "# Exercise 1.3 a)\n",
    "\n",
    "How do people prefer to pay in this supermarket? In other words, what is the distribution of the payment methods?\n"
   ]
  },
  {
   "cell_type": "code",
   "execution_count": 18,
   "id": "a6dd395c",
   "metadata": {
    "tags": []
   },
   "outputs": [
    {
     "data": {
      "text/plain": [
       "Ewallet        345\n",
       "Cash           344\n",
       "Credit card    311\n",
       "Name: Payment, dtype: int64"
      ]
     },
     "execution_count": 18,
     "metadata": {},
     "output_type": "execute_result"
    }
   ],
   "source": [
    "pay = df['Payment'].value_counts()\n",
    "pay"
   ]
  },
  {
   "cell_type": "markdown",
   "id": "50de6b22",
   "metadata": {},
   "source": [
    "# Exercise 1.3 b)\n",
    "\n",
    "What about the distribution of gender of their costumers?"
   ]
  },
  {
   "cell_type": "code",
   "execution_count": 19,
   "id": "3ffee1dc",
   "metadata": {
    "tags": []
   },
   "outputs": [
    {
     "data": {
      "text/plain": [
       "Female    501\n",
       "Male      499\n",
       "Name: Gender, dtype: int64"
      ]
     },
     "execution_count": 19,
     "metadata": {},
     "output_type": "execute_result"
    }
   ],
   "source": [
    "gender = df['Gender'].value_counts()\n",
    "gender"
   ]
  },
  {
   "cell_type": "markdown",
   "id": "d8a72dbf",
   "metadata": {},
   "source": [
    "# Exercise 1.4 a)\n",
    "\n",
    "What is the invoice ID of the most expensive purchase in this dataset?\n",
    "\n",
    "**hint**: The `Total` column represents the total cost of each purchase"
   ]
  },
  {
   "cell_type": "code",
   "execution_count": 24,
   "id": "92d4c90a",
   "metadata": {
    "tags": []
   },
   "outputs": [
    {
     "data": {
      "text/plain": [
       "350"
      ]
     },
     "execution_count": 24,
     "metadata": {},
     "output_type": "execute_result"
    }
   ],
   "source": [
    "invoice_id = df['Total'].idxmax()\n",
    "invoice_id"
   ]
  },
  {
   "cell_type": "markdown",
   "id": "0496df03",
   "metadata": {},
   "source": [
    "# Exercise 1.4 b)\n",
    "\n",
    "And what was its respective amount?"
   ]
  },
  {
   "cell_type": "code",
   "execution_count": 26,
   "id": "41074373",
   "metadata": {
    "tags": []
   },
   "outputs": [
    {
     "data": {
      "text/plain": [
       "1042.65"
      ]
     },
     "execution_count": 26,
     "metadata": {},
     "output_type": "execute_result"
    }
   ],
   "source": [
    "amount = df['Total'].max()\n",
    "amount"
   ]
  },
  {
   "cell_type": "markdown",
   "id": "d840c48e",
   "metadata": {},
   "source": [
    "# Exercise 1.5 a)\n",
    "\n",
    "What was the product line of the purchase that generated the least gross income for the supermarket?"
   ]
  },
  {
   "cell_type": "code",
   "execution_count": 30,
   "id": "4e323324",
   "metadata": {
    "tags": []
   },
   "outputs": [
    {
     "data": {
      "text/plain": [
       "'Sports and travel'"
      ]
     },
     "execution_count": 30,
     "metadata": {},
     "output_type": "execute_result"
    }
   ],
   "source": [
    "product_line = df.loc[df['Total'].idxmin(), 'Product line']\n",
    "product_line"
   ]
  },
  {
   "cell_type": "markdown",
   "id": "8b9825b2",
   "metadata": {},
   "source": [
    "# Exercise 1.5 b)\n",
    "\n",
    "And what was the amount of the gross income for that purchase?"
   ]
  },
  {
   "cell_type": "code",
   "execution_count": 31,
   "id": "84a8a767",
   "metadata": {
    "tags": []
   },
   "outputs": [
    {
     "data": {
      "text/plain": [
       "10.6785"
      ]
     },
     "execution_count": 31,
     "metadata": {},
     "output_type": "execute_result"
    }
   ],
   "source": [
    "lowest_gross_income = df['Total'].min()\n",
    "lowest_gross_income"
   ]
  },
  {
   "cell_type": "markdown",
   "id": "8cf613d7",
   "metadata": {},
   "source": [
    "# 2 - Masking"
   ]
  },
  {
   "cell_type": "markdown",
   "id": "ed7d32cc",
   "metadata": {},
   "source": [
    "# Exercise 2.1\n",
    "\n",
    "Who spends more on average, women or men?\n",
    "\n",
    "*hint*: `Total` column will help you with this"
   ]
  },
  {
   "cell_type": "code",
   "execution_count": 43,
   "id": "7d785cc5",
   "metadata": {
    "tags": []
   },
   "outputs": [
    {
     "data": {
      "text/plain": [
       "310.7892264529058"
      ]
     },
     "execution_count": 43,
     "metadata": {},
     "output_type": "execute_result"
    },
    {
     "data": {
      "text/plain": [
       "335.09565868263473"
      ]
     },
     "execution_count": 43,
     "metadata": {},
     "output_type": "execute_result"
    }
   ],
   "source": [
    "men_mask = df['Gender'] == 'Male'\n",
    "female_mask = df['Gender'] == 'Female'\n",
    "\n",
    "df.loc[men_mask, 'Total'].mean()\n",
    "df.loc[female_mask, 'Total'].mean()"
   ]
  },
  {
   "cell_type": "markdown",
   "id": "e651dd0f",
   "metadata": {},
   "source": [
    "# Exercise 2.2\n",
    "\n",
    "In total, how much did customers pay in taxes in the city of Naypyitaw?"
   ]
  },
  {
   "cell_type": "code",
   "execution_count": 49,
   "id": "00e435f2",
   "metadata": {
    "tags": []
   },
   "outputs": [
    {
     "data": {
      "text/plain": [
       "5265.1765"
      ]
     },
     "execution_count": 49,
     "metadata": {},
     "output_type": "execute_result"
    }
   ],
   "source": [
    "city_mask = df['City'] == 'Naypyitaw'\n",
    "\n",
    "total_taxes_Naypyitaw = df.loc[city_mask, 'Tax 5%'].sum()\n",
    "total_taxes_Naypyitaw"
   ]
  },
  {
   "cell_type": "markdown",
   "id": "6df3b957",
   "metadata": {},
   "source": [
    "# Exercise 2.3 a)\n",
    "\n",
    "What product line is more common for **men** to buy from?"
   ]
  },
  {
   "cell_type": "code",
   "execution_count": 59,
   "id": "de25be9d",
   "metadata": {
    "tags": []
   },
   "outputs": [
    {
     "data": {
      "text/plain": [
       "Health and beauty    88\n",
       "Name: Product line, dtype: int64"
      ]
     },
     "execution_count": 59,
     "metadata": {},
     "output_type": "execute_result"
    }
   ],
   "source": [
    "top_product_line_men = df.loc[men_mask, 'Product line'].value_counts().head(1)\n",
    "top_product_line_men"
   ]
  },
  {
   "cell_type": "markdown",
   "id": "57cad739",
   "metadata": {},
   "source": [
    "# Exercise 2.3 b)\n",
    "\n",
    "What product line is more common for **women** to buy from?"
   ]
  },
  {
   "cell_type": "code",
   "execution_count": 58,
   "id": "88e7c50d",
   "metadata": {
    "tags": []
   },
   "outputs": [
    {
     "data": {
      "text/plain": [
       "Fashion accessories    96\n",
       "Name: Product line, dtype: int64"
      ]
     },
     "execution_count": 58,
     "metadata": {},
     "output_type": "execute_result"
    }
   ],
   "source": [
    "top_product_line_women = df.loc[female_mask, 'Product line'].value_counts().head(1)\n",
    "top_product_line_women"
   ]
  },
  {
   "cell_type": "markdown",
   "id": "40d93008",
   "metadata": {},
   "source": [
    "# Exercise 2.4\n",
    "\n",
    "What is the city with the highest average rating for their purchases?"
   ]
  },
  {
   "cell_type": "code",
   "execution_count": 85,
   "id": "b5e7e51a",
   "metadata": {
    "tags": []
   },
   "outputs": [
    {
     "data": {
      "text/plain": [
       "'Naypyitaw'"
      ]
     },
     "execution_count": 85,
     "metadata": {},
     "output_type": "execute_result"
    }
   ],
   "source": [
    "res = {}\n",
    "for city in df['City'].unique():\n",
    "    res[city] = df.loc[df['City'] == city, 'Rating'].mean()\n",
    "    \n",
    "pd.Series(res).idxmax()"
   ]
  },
  {
   "cell_type": "markdown",
   "id": "24302437",
   "metadata": {},
   "source": [
    "# 3 - Plotting"
   ]
  },
  {
   "cell_type": "markdown",
   "id": "e7f75960",
   "metadata": {},
   "source": [
    "# Exercise 3.1\n",
    "\n",
    "What is the distribution of our Product line sales? \n",
    "\n",
    "**hint**: you want a bar plot for this"
   ]
  },
  {
   "cell_type": "code",
   "execution_count": 70,
   "id": "55e33475",
   "metadata": {
    "tags": []
   },
   "outputs": [
    {
     "data": {
      "text/plain": [
       "<Axes: title={'center': 'Product line sales'}, xlabel='Product line', ylabel='Sales'>"
      ]
     },
     "execution_count": 70,
     "metadata": {},
     "output_type": "execute_result"
    },
    {
     "data": {
      "image/png": "[encoded data removed]",
      "text/plain": [
       "<Figure size 640x480 with 1 Axes>"
      ]
     },
     "metadata": {},
     "output_type": "display_data"
    }
   ],
   "source": [
    "product_line_sales = df.loc[:, 'Product line'].value_counts()\n",
    "\n",
    "product_line_sales.plot.bar(title='Product line sales', xlabel='Product line', ylabel='Sales')"
   ]
  },
  {
   "cell_type": "markdown",
   "id": "d46cade3",
   "metadata": {},
   "source": [
    "# Exercise 3.2\n",
    "\n",
    "What is the distribution of payments for the `Health and beauty` product line in this supermarket company? \n",
    "\n",
    "Use a histogram plot to analyze the distribution of payments (`Total` column)\n",
    "\n"
   ]
  },
  {
   "cell_type": "code",
   "execution_count": 72,
   "id": "2375b2c7",
   "metadata": {
    "tags": []
   },
   "outputs": [
    {
     "data": {
      "text/plain": [
       "count    152\n",
       "mean     323\n",
       "std      237\n",
       "min       18\n",
       "25%      125\n",
       "50%      272\n",
       "75%      492\n",
       "max      950\n",
       "Name: Total, dtype: int32"
      ]
     },
     "execution_count": 72,
     "metadata": {},
     "output_type": "execute_result"
    }
   ],
   "source": [
    "prod_mask = df['Product line'] == 'Health and beauty'\n",
    "\n",
    "df.loc[prod_mask,'Total'].describe().astype(int)"
   ]
  },
  {
   "cell_type": "code",
   "execution_count": 73,
   "id": "bd48bbe5-4ddf-458d-be93-6462d7b3eefa",
   "metadata": {
    "tags": []
   },
   "outputs": [
    {
     "data": {
      "text/plain": [
       "<Axes: ylabel='Frequency'>"
      ]
     },
     "execution_count": 73,
     "metadata": {},
     "output_type": "execute_result"
    },
    {
     "data": {
      "image/png": "[encoded data removed]",
      "text/plain": [
       "<Figure size 640x480 with 1 Axes>"
      ]
     },
     "metadata": {},
     "output_type": "display_data"
    }
   ],
   "source": [
    "df.loc[prod_mask,'Total'].plot.hist()"
   ]
  },
  {
   "cell_type": "code",
   "execution_count": null,
   "id": "fc04cce7-e8b8-47db-98f4-b22c5e2b1b7d",
   "metadata": {},
   "outputs": [],
   "source": []
  }
 ],
 "metadata": {
  "kernelspec": {
   "display_name": "Python 3 (ipykernel)",
   "language": "python",
   "name": "python3"
  },
  "language_info": {
   "codemirror_mode": {
    "name": "ipython",
    "version": 3
   },
   "file_extension": ".py",
   "mimetype": "text/x-python",
   "name": "python",
   "nbconvert_exporter": "python",
   "pygments_lexer": "ipython3",
   "version": "3.11.4"
  }
 },
 "nbformat": 4,
 "nbformat_minor": 5
}
